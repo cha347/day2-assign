{
 "cells": [
  {
   "cell_type": "code",
   "execution_count": 1,
   "metadata": {},
   "outputs": [
    {
     "name": "stdout",
     "output_type": "stream",
     "text": [
      "0\n",
      "1\n",
      "2\n",
      "3\n",
      "4\n",
      "5\n",
      "6\n",
      "7\n",
      "8\n",
      "9\n",
      "[0, 2, 4, 6, 8]\n"
     ]
    }
   ],
   "source": [
    "sample_list=[];\n",
    "for i in range(10):\n",
    "    print(i)\n",
    "    if(i%2==0):\n",
    "        sample_list.append(i);\n",
    "print(sample_list);"
   ]
  },
  {
   "cell_type": "code",
   "execution_count": 2,
   "metadata": {},
   "outputs": [
    {
     "name": "stdout",
     "output_type": "stream",
     "text": [
      "[0, 2, 4, 6, 8, 10, 12, 14, 16, 18]\n"
     ]
    }
   ],
   "source": [
    "number_list=[x for x in range(20) if x%2==0];\n",
    "print(number_list);"
   ]
  },
  {
   "cell_type": "code",
   "execution_count": 3,
   "metadata": {},
   "outputs": [
    {
     "name": "stdout",
     "output_type": "stream",
     "text": [
      "6\n",
      "6\n",
      "{1: 1}\n",
      "{2: 4}\n",
      "{3: 9}\n",
      "{4: 16}\n",
      "{5: 25}\n"
     ]
    }
   ],
   "source": [
    "n=int(input());\n",
    "print(n);\n",
    "for i in range(1,n):\n",
    "    d={i:i*i};\n",
    "    print(d);"
   ]
  },
  {
   "cell_type": "code",
   "execution_count": null,
   "metadata": {},
   "outputs": [
    {
     "name": "stdout",
     "output_type": "stream",
     "text": [
      "5\n"
     ]
    }
   ],
   "source": [
    "import math\n",
    "n=int(input())\n",
    "robot_move=[];\n",
    "x=0\n",
    "y=0\n",
    "for r in range(n):\n",
    "    d,m= input().split()\n",
    "    if d=='UP':\n",
    "        y=y+int(m);\n",
    "    if d=='DOWN':\n",
    "        y=y-int(m);\n",
    "    if d=='RIGHT':\n",
    "        x=x+int(m);\n",
    "    if d=='LEFT':\n",
    "        x=x-int(m);\n",
    "print(round(math.sqrt(x*x + y*y)),end=\"\");"
   ]
  },
  {
   "cell_type": "code",
   "execution_count": null,
   "metadata": {},
   "outputs": [],
   "source": []
  }
 ],
 "metadata": {
  "kernelspec": {
   "display_name": "Python 3",
   "language": "python",
   "name": "python3"
  },
  "language_info": {
   "codemirror_mode": {
    "name": "ipython",
    "version": 3
   },
   "file_extension": ".py",
   "mimetype": "text/x-python",
   "name": "python",
   "nbconvert_exporter": "python",
   "pygments_lexer": "ipython3",
   "version": "3.6.11"
  }
 },
 "nbformat": 4,
 "nbformat_minor": 4
}
